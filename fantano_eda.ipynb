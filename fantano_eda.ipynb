{
 "cells": [
  {
   "cell_type": "markdown",
   "metadata": {},
   "source": [
    "# Fantano Review Notebook 1 - Exploratory Data Analysis"
   ]
  },
  {
   "cell_type": "markdown",
   "metadata": {},
   "source": [
    "*In this project*, I will analyze and visualize data of albums rated by \"The Internet's Busiest Music Nerd,\" Anthony Fantano. Fantano's YouTube channel \"The Needle Drop\" has 2.12 Million subscribers (as of April 2020) and he has rated over 1,700 albumbs. After analyzing and visualizing the data, I will make two Machine Learning models to predict future album ratings. The first model will be a Logistic Regession model for binary classification which will classify albums as either \"highly rated\" or \"not highly rated.\" The second will be a Neural Network which will classify albums on the same 1-10 scale that Fantano uses for all of his ratings.  \n",
    "\n",
    "*In this first notebook*, I will combine two CSV files (one with Anthony Fantano ratings information from Kaggle and one with Spotify album information created using a Spotify API) to explore data of albums that Anthony Fantano has rated. I will combine the CSVs, clean the data, and organize the final CSV is a way that is conducive to visualization and modeling."
   ]
  },
  {
   "cell_type": "code",
   "execution_count": null,
   "metadata": {},
   "outputs": [],
   "source": []
  }
 ],
 "metadata": {
  "kernelspec": {
   "display_name": "Python 3",
   "language": "python",
   "name": "python3"
  },
  "language_info": {
   "codemirror_mode": {
    "name": "ipython",
    "version": 3
   },
   "file_extension": ".py",
   "mimetype": "text/x-python",
   "name": "python",
   "nbconvert_exporter": "python",
   "pygments_lexer": "ipython3",
   "version": "3.7.4"
  }
 },
 "nbformat": 4,
 "nbformat_minor": 4
}
