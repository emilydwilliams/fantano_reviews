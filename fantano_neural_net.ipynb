{
 "cells": [
  {
   "cell_type": "markdown",
   "metadata": {},
   "source": [
    "# Fantano Review Notebook 3 - Neural Net"
   ]
  },
  {
   "cell_type": "markdown",
   "metadata": {},
   "source": [
    "*In this project*, I will analyze and visualize data of albums rated by \"The Internet's Busiest Music Nerd,\" Anthony Fantano. I will then create a Neural Network to predict ratings that Fantano would give to albums.\n",
    "\n",
    "*In this third notebook*, I will create a Neural Network to predict ratings that Fantano would give to albums."
   ]
  },
  {
   "cell_type": "markdown",
   "metadata": {},
   "source": [
    "# Step 1 - Prepare the data for modeling"
   ]
  },
  {
   "cell_type": "code",
   "execution_count": 1,
   "metadata": {},
   "outputs": [
    {
     "name": "stderr",
     "output_type": "stream",
     "text": [
      "/Users/emilywilliams/opt/anaconda3/lib/python3.7/site-packages/tensorflow/python/framework/dtypes.py:516: FutureWarning: Passing (type, 1) or '1type' as a synonym of type is deprecated; in a future version of numpy, it will be understood as (type, (1,)) / '(1,)type'.\n",
      "  _np_qint8 = np.dtype([(\"qint8\", np.int8, 1)])\n",
      "/Users/emilywilliams/opt/anaconda3/lib/python3.7/site-packages/tensorflow/python/framework/dtypes.py:517: FutureWarning: Passing (type, 1) or '1type' as a synonym of type is deprecated; in a future version of numpy, it will be understood as (type, (1,)) / '(1,)type'.\n",
      "  _np_quint8 = np.dtype([(\"quint8\", np.uint8, 1)])\n",
      "/Users/emilywilliams/opt/anaconda3/lib/python3.7/site-packages/tensorflow/python/framework/dtypes.py:518: FutureWarning: Passing (type, 1) or '1type' as a synonym of type is deprecated; in a future version of numpy, it will be understood as (type, (1,)) / '(1,)type'.\n",
      "  _np_qint16 = np.dtype([(\"qint16\", np.int16, 1)])\n",
      "/Users/emilywilliams/opt/anaconda3/lib/python3.7/site-packages/tensorflow/python/framework/dtypes.py:519: FutureWarning: Passing (type, 1) or '1type' as a synonym of type is deprecated; in a future version of numpy, it will be understood as (type, (1,)) / '(1,)type'.\n",
      "  _np_quint16 = np.dtype([(\"quint16\", np.uint16, 1)])\n",
      "/Users/emilywilliams/opt/anaconda3/lib/python3.7/site-packages/tensorflow/python/framework/dtypes.py:520: FutureWarning: Passing (type, 1) or '1type' as a synonym of type is deprecated; in a future version of numpy, it will be understood as (type, (1,)) / '(1,)type'.\n",
      "  _np_qint32 = np.dtype([(\"qint32\", np.int32, 1)])\n",
      "/Users/emilywilliams/opt/anaconda3/lib/python3.7/site-packages/tensorflow/python/framework/dtypes.py:525: FutureWarning: Passing (type, 1) or '1type' as a synonym of type is deprecated; in a future version of numpy, it will be understood as (type, (1,)) / '(1,)type'.\n",
      "  np_resource = np.dtype([(\"resource\", np.ubyte, 1)])\n",
      "/Users/emilywilliams/opt/anaconda3/lib/python3.7/site-packages/tensorboard/compat/tensorflow_stub/dtypes.py:541: FutureWarning: Passing (type, 1) or '1type' as a synonym of type is deprecated; in a future version of numpy, it will be understood as (type, (1,)) / '(1,)type'.\n",
      "  _np_qint8 = np.dtype([(\"qint8\", np.int8, 1)])\n",
      "/Users/emilywilliams/opt/anaconda3/lib/python3.7/site-packages/tensorboard/compat/tensorflow_stub/dtypes.py:542: FutureWarning: Passing (type, 1) or '1type' as a synonym of type is deprecated; in a future version of numpy, it will be understood as (type, (1,)) / '(1,)type'.\n",
      "  _np_quint8 = np.dtype([(\"quint8\", np.uint8, 1)])\n",
      "/Users/emilywilliams/opt/anaconda3/lib/python3.7/site-packages/tensorboard/compat/tensorflow_stub/dtypes.py:543: FutureWarning: Passing (type, 1) or '1type' as a synonym of type is deprecated; in a future version of numpy, it will be understood as (type, (1,)) / '(1,)type'.\n",
      "  _np_qint16 = np.dtype([(\"qint16\", np.int16, 1)])\n",
      "/Users/emilywilliams/opt/anaconda3/lib/python3.7/site-packages/tensorboard/compat/tensorflow_stub/dtypes.py:544: FutureWarning: Passing (type, 1) or '1type' as a synonym of type is deprecated; in a future version of numpy, it will be understood as (type, (1,)) / '(1,)type'.\n",
      "  _np_quint16 = np.dtype([(\"quint16\", np.uint16, 1)])\n",
      "/Users/emilywilliams/opt/anaconda3/lib/python3.7/site-packages/tensorboard/compat/tensorflow_stub/dtypes.py:545: FutureWarning: Passing (type, 1) or '1type' as a synonym of type is deprecated; in a future version of numpy, it will be understood as (type, (1,)) / '(1,)type'.\n",
      "  _np_qint32 = np.dtype([(\"qint32\", np.int32, 1)])\n",
      "/Users/emilywilliams/opt/anaconda3/lib/python3.7/site-packages/tensorboard/compat/tensorflow_stub/dtypes.py:550: FutureWarning: Passing (type, 1) or '1type' as a synonym of type is deprecated; in a future version of numpy, it will be understood as (type, (1,)) / '(1,)type'.\n",
      "  np_resource = np.dtype([(\"resource\", np.ubyte, 1)])\n",
      "Using TensorFlow backend.\n"
     ]
    }
   ],
   "source": [
    "import pandas as pd\n",
    "import numpy as np\n",
    "import tensorflow as tf\n",
    "import keras\n",
    "from keras.utils import to_categorical\n",
    "from keras.models import Sequential\n",
    "from keras.layers import Dense, Dropout, Activation\n",
    "from keras.layers.advanced_activations import LeakyReLU\n",
    "import matplotlib.pyplot as plt\n",
    "from sklearn.model_selection import train_test_split\n",
    "import warnings\n",
    "warnings.filterwarnings('ignore')\n"
   ]
  },
  {
   "cell_type": "code",
   "execution_count": 2,
   "metadata": {},
   "outputs": [],
   "source": [
    "fantano_df = pd.read_csv('fantano_spotify.csv')"
   ]
  },
  {
   "cell_type": "code",
   "execution_count": 3,
   "metadata": {},
   "outputs": [
    {
     "data": {
      "text/plain": [
       "Index(['Unnamed: 0', 'artist_name', 'album_name', 'spotify_id', 'popularity',\n",
       "       'duration_ms', 'tempo', 'loudness', 'instrumentalness', 'acousticness',\n",
       "       'speechiness', 'liveness', 'danceability', 'energy', 'valence', 'key',\n",
       "       'mode', 'time_signature', 'duration_ms_standard_dev',\n",
       "       'tempo_standard_dev', 'loudness_standard_dev',\n",
       "       'instrumentalness_standard_dev', 'acousticness_standard_dev',\n",
       "       'speechiness_standard_dev', 'liveness_standard_dev',\n",
       "       'danceability_standard_dev', 'energy_standard_dev',\n",
       "       'valence_standard_dev', 'score'],\n",
       "      dtype='object')"
      ]
     },
     "execution_count": 3,
     "metadata": {},
     "output_type": "execute_result"
    }
   ],
   "source": [
    "fantano_df.columns"
   ]
  },
  {
   "cell_type": "code",
   "execution_count": 4,
   "metadata": {},
   "outputs": [],
   "source": [
    "# Normalizing values for 'popularity', 'duration_ms', and 'tempo' by converting them to their z-scores\n",
    "\n",
    "fantano_df['popularity'] = (fantano_df['popularity'] - fantano_df['popularity'].mean()) / fantano_df['popularity'].std()\n",
    "\n",
    "fantano_df['duration_ms'] = (fantano_df['duration_ms'] - fantano_df['duration_ms'].mean()) / fantano_df['duration_ms'].std()\n",
    "\n",
    "fantano_df['tempo'] = (fantano_df['tempo'] - fantano_df['tempo'].mean()) / fantano_df['tempo'].std()\n"
   ]
  },
  {
   "cell_type": "code",
   "execution_count": 5,
   "metadata": {},
   "outputs": [
    {
     "name": "stdout",
     "output_type": "stream",
     "text": [
      "[0. 0. 0. 0. 0. 0. 0. 1. 0. 0. 0.]\n"
     ]
    }
   ],
   "source": [
    "# turn label ('score') into One-hot vector (since it's categorical)\n",
    "\n",
    "label = fantano_df['score']\n",
    "one_hot_label = to_categorical(label)\n",
    "\n",
    "print(one_hot_label[0])"
   ]
  },
  {
   "cell_type": "code",
   "execution_count": 6,
   "metadata": {},
   "outputs": [
    {
     "data": {
      "text/plain": [
       "Index(['popularity', 'duration_ms', 'tempo', 'loudness', 'instrumentalness',\n",
       "       'acousticness', 'speechiness', 'liveness', 'danceability', 'energy',\n",
       "       'valence', 'duration_ms_standard_dev', 'tempo_standard_dev',\n",
       "       'loudness_standard_dev', 'instrumentalness_standard_dev',\n",
       "       'acousticness_standard_dev', 'speechiness_standard_dev',\n",
       "       'liveness_standard_dev', 'danceability_standard_dev',\n",
       "       'energy_standard_dev', 'valence_standard_dev'],\n",
       "      dtype='object')"
      ]
     },
     "execution_count": 6,
     "metadata": {},
     "output_type": "execute_result"
    }
   ],
   "source": [
    "# create a 'features' matrix - this will be the df, but only keeping the columns that will be used as features\n",
    "\n",
    "features = fantano_df.drop(columns=['Unnamed: 0', 'artist_name', 'album_name', 'spotify_id',\n",
    "                                    'key', 'time_signature', 'mode', 'score'])\n",
    "\n",
    "features.columns # these are the features we will be training our model on"
   ]
  },
  {
   "cell_type": "code",
   "execution_count": 7,
   "metadata": {},
   "outputs": [],
   "source": [
    "# split training and testing data\n",
    "\n",
    "x_train, x_test, y_train, y_test = train_test_split(features, one_hot_label, test_size=0.2, random_state=13)"
   ]
  },
  {
   "cell_type": "markdown",
   "metadata": {},
   "source": [
    "# Step 2 - Create & compile model"
   ]
  },
  {
   "cell_type": "code",
   "execution_count": 8,
   "metadata": {},
   "outputs": [
    {
     "name": "stdout",
     "output_type": "stream",
     "text": [
      "Model: \"sequential_1\"\n",
      "_________________________________________________________________\n",
      "Layer (type)                 Output Shape              Param #   \n",
      "=================================================================\n",
      "dense_1 (Dense)              (None, 16)                352       \n",
      "_________________________________________________________________\n",
      "leaky_re_lu_1 (LeakyReLU)    (None, 16)                0         \n",
      "_________________________________________________________________\n",
      "dense_2 (Dense)              (None, 32)                544       \n",
      "_________________________________________________________________\n",
      "leaky_re_lu_2 (LeakyReLU)    (None, 32)                0         \n",
      "_________________________________________________________________\n",
      "dense_3 (Dense)              (None, 64)                2112      \n",
      "_________________________________________________________________\n",
      "leaky_re_lu_3 (LeakyReLU)    (None, 64)                0         \n",
      "_________________________________________________________________\n",
      "dense_4 (Dense)              (None, 11)                715       \n",
      "=================================================================\n",
      "Total params: 3,723\n",
      "Trainable params: 3,723\n",
      "Non-trainable params: 0\n",
      "_________________________________________________________________\n"
     ]
    }
   ],
   "source": [
    "# create model\n",
    "\n",
    "model = Sequential()\n",
    "\n",
    "model.add(Dense(units=16,\n",
    "                input_shape = x_train.shape[1:]))\n",
    "model.add(LeakyReLU())\n",
    "\n",
    "model.add(Dense(units=32))\n",
    "model.add(LeakyReLU())\n",
    "\n",
    "model.add(Dense(units=64))\n",
    "model.add(LeakyReLU())\n",
    "\n",
    "model.add(Dense(units=11, \n",
    "                activation='softmax'))\n",
    "\n",
    "model.summary()"
   ]
  },
  {
   "cell_type": "code",
   "execution_count": 9,
   "metadata": {},
   "outputs": [],
   "source": [
    "# Compile model\n",
    "\n",
    "model.compile(loss='categorical_crossentropy', optimizer=keras.optimizers.Adam(learning_rate=0.001, beta_1=0.9, beta_2=0.999, amsgrad=False), metrics=['accuracy'])\n"
   ]
  },
  {
   "cell_type": "markdown",
   "metadata": {},
   "source": [
    "# Step 3 - Fit the model to the train data"
   ]
  },
  {
   "cell_type": "code",
   "execution_count": 10,
   "metadata": {},
   "outputs": [
    {
     "name": "stdout",
     "output_type": "stream",
     "text": [
      "WARNING:tensorflow:From /Users/emilywilliams/opt/anaconda3/lib/python3.7/site-packages/keras/backend/tensorflow_backend.py:422: The name tf.global_variables is deprecated. Please use tf.compat.v1.global_variables instead.\n",
      "\n",
      "Train on 957 samples, validate on 240 samples\n",
      "Epoch 1/100\n",
      "957/957 [==============================] - 1s 672us/step - loss: 3558.7637 - accuracy: 0.0345 - val_loss: nan - val_accuracy: 0.2583\n",
      "Epoch 2/100\n",
      "957/957 [==============================] - 0s 24us/step - loss: 1347.8136 - accuracy: 0.1870 - val_loss: nan - val_accuracy: 0.0333\n",
      "Epoch 3/100\n",
      "957/957 [==============================] - 0s 24us/step - loss: 621.5801 - accuracy: 0.1964 - val_loss: nan - val_accuracy: 0.2583\n",
      "Epoch 4/100\n",
      "957/957 [==============================] - 0s 24us/step - loss: 434.2424 - accuracy: 0.2382 - val_loss: nan - val_accuracy: 0.2500\n",
      "Epoch 5/100\n",
      "957/957 [==============================] - 0s 23us/step - loss: 338.5403 - accuracy: 0.1338 - val_loss: nan - val_accuracy: 0.1833\n",
      "Epoch 6/100\n",
      "957/957 [==============================] - 0s 24us/step - loss: 203.8730 - accuracy: 0.2142 - val_loss: nan - val_accuracy: 0.2583\n",
      "Epoch 7/100\n",
      "957/957 [==============================] - 0s 25us/step - loss: 103.9005 - accuracy: 0.1839 - val_loss: nan - val_accuracy: 0.0375\n",
      "Epoch 8/100\n",
      "957/957 [==============================] - 0s 24us/step - loss: 101.3352 - accuracy: 0.1870 - val_loss: nan - val_accuracy: 0.2583\n",
      "Epoch 9/100\n",
      "957/957 [==============================] - 0s 27us/step - loss: 117.5894 - accuracy: 0.1745 - val_loss: nan - val_accuracy: 0.0375\n",
      "Epoch 10/100\n",
      "957/957 [==============================] - 0s 25us/step - loss: 135.3437 - accuracy: 0.2226 - val_loss: nan - val_accuracy: 0.1833\n",
      "Epoch 11/100\n",
      "957/957 [==============================] - 0s 25us/step - loss: 134.9209 - accuracy: 0.1923 - val_loss: nan - val_accuracy: 0.2583\n",
      "Epoch 12/100\n",
      "957/957 [==============================] - 0s 25us/step - loss: 182.8550 - accuracy: 0.1421 - val_loss: nan - val_accuracy: 0.2583\n",
      "Epoch 13/100\n",
      "957/957 [==============================] - 0s 22us/step - loss: 113.5097 - accuracy: 0.1881 - val_loss: nan - val_accuracy: 0.1708\n",
      "Epoch 14/100\n",
      "957/957 [==============================] - 0s 23us/step - loss: 136.4941 - accuracy: 0.1630 - val_loss: nan - val_accuracy: 0.2500\n",
      "Epoch 15/100\n",
      "957/957 [==============================] - 0s 25us/step - loss: 137.0816 - accuracy: 0.1745 - val_loss: nan - val_accuracy: 0.1542\n",
      "Epoch 16/100\n",
      "957/957 [==============================] - 0s 27us/step - loss: 150.8937 - accuracy: 0.1975 - val_loss: nan - val_accuracy: 0.2875\n",
      "Epoch 17/100\n",
      "957/957 [==============================] - 0s 24us/step - loss: 124.7700 - accuracy: 0.2059 - val_loss: nan - val_accuracy: 0.2583\n",
      "Epoch 18/100\n",
      "957/957 [==============================] - 0s 24us/step - loss: 132.5951 - accuracy: 0.1567 - val_loss: nan - val_accuracy: 0.1833\n",
      "Epoch 19/100\n",
      "957/957 [==============================] - 0s 24us/step - loss: 186.2037 - accuracy: 0.1964 - val_loss: nan - val_accuracy: 0.2500\n",
      "Epoch 20/100\n",
      "957/957 [==============================] - 0s 23us/step - loss: 127.3010 - accuracy: 0.1954 - val_loss: nan - val_accuracy: 0.2500\n",
      "Epoch 21/100\n",
      "957/957 [==============================] - 0s 25us/step - loss: 151.8196 - accuracy: 0.1870 - val_loss: nan - val_accuracy: 0.1708\n",
      "Epoch 22/100\n",
      "957/957 [==============================] - 0s 28us/step - loss: 107.2879 - accuracy: 0.1829 - val_loss: nan - val_accuracy: 0.2583\n",
      "Epoch 23/100\n",
      "957/957 [==============================] - 0s 24us/step - loss: 139.3121 - accuracy: 0.1787 - val_loss: nan - val_accuracy: 0.1833\n",
      "Epoch 24/100\n",
      "957/957 [==============================] - 0s 24us/step - loss: 135.8398 - accuracy: 0.1881 - val_loss: nan - val_accuracy: 0.2583\n",
      "Epoch 25/100\n",
      "957/957 [==============================] - 0s 25us/step - loss: 72.6551 - accuracy: 0.1881 - val_loss: nan - val_accuracy: 0.2583\n",
      "Epoch 26/100\n",
      "957/957 [==============================] - 0s 24us/step - loss: 138.9832 - accuracy: 0.1473 - val_loss: nan - val_accuracy: 0.2583\n",
      "Epoch 27/100\n",
      "957/957 [==============================] - 0s 25us/step - loss: 132.2177 - accuracy: 0.1870 - val_loss: nan - val_accuracy: 0.1833\n",
      "Epoch 28/100\n",
      "957/957 [==============================] - 0s 24us/step - loss: 113.0546 - accuracy: 0.2142 - val_loss: nan - val_accuracy: 0.1833\n",
      "Epoch 29/100\n",
      "957/957 [==============================] - 0s 24us/step - loss: 111.7202 - accuracy: 0.1358 - val_loss: nan - val_accuracy: 0.2583\n",
      "Epoch 30/100\n",
      "957/957 [==============================] - 0s 25us/step - loss: 113.3838 - accuracy: 0.2027 - val_loss: nan - val_accuracy: 0.2583\n",
      "Epoch 31/100\n",
      "957/957 [==============================] - 0s 24us/step - loss: 130.1393 - accuracy: 0.2038 - val_loss: nan - val_accuracy: 0.2500\n",
      "Epoch 32/100\n",
      "957/957 [==============================] - 0s 24us/step - loss: 135.0370 - accuracy: 0.2027 - val_loss: nan - val_accuracy: 0.2583\n",
      "Epoch 33/100\n",
      "957/957 [==============================] - 0s 24us/step - loss: 72.7978 - accuracy: 0.1829 - val_loss: nan - val_accuracy: 0.2500\n",
      "Epoch 34/100\n",
      "957/957 [==============================] - 0s 24us/step - loss: 114.8615 - accuracy: 0.1682 - val_loss: nan - val_accuracy: 0.1708\n",
      "Epoch 35/100\n",
      "957/957 [==============================] - 0s 25us/step - loss: 120.4411 - accuracy: 0.1923 - val_loss: nan - val_accuracy: 0.1833\n",
      "Epoch 36/100\n",
      "957/957 [==============================] - 0s 26us/step - loss: 88.8292 - accuracy: 0.1557 - val_loss: nan - val_accuracy: 0.2500\n",
      "Epoch 37/100\n",
      "957/957 [==============================] - 0s 24us/step - loss: 111.0119 - accuracy: 0.2048 - val_loss: nan - val_accuracy: 0.1708\n",
      "Epoch 38/100\n",
      "957/957 [==============================] - 0s 25us/step - loss: 131.2344 - accuracy: 0.1452 - val_loss: nan - val_accuracy: 0.2500\n",
      "Epoch 39/100\n",
      "957/957 [==============================] - 0s 25us/step - loss: 79.0791 - accuracy: 0.1975 - val_loss: nan - val_accuracy: 0.1833\n",
      "Epoch 40/100\n",
      "957/957 [==============================] - 0s 25us/step - loss: 82.6757 - accuracy: 0.1985 - val_loss: nan - val_accuracy: 0.0375\n",
      "Epoch 41/100\n",
      "957/957 [==============================] - 0s 26us/step - loss: 99.6460 - accuracy: 0.1567 - val_loss: nan - val_accuracy: 0.2500\n",
      "Epoch 42/100\n",
      "957/957 [==============================] - 0s 24us/step - loss: 145.7128 - accuracy: 0.2247 - val_loss: nan - val_accuracy: 0.1708\n",
      "Epoch 43/100\n",
      "957/957 [==============================] - 0s 23us/step - loss: 75.1664 - accuracy: 0.1390 - val_loss: nan - val_accuracy: 0.2500\n",
      "Epoch 44/100\n",
      "957/957 [==============================] - 0s 41us/step - loss: 83.8311 - accuracy: 0.2006 - val_loss: nan - val_accuracy: 0.1833\n",
      "Epoch 45/100\n",
      "957/957 [==============================] - 0s 23us/step - loss: 85.0196 - accuracy: 0.1808 - val_loss: nan - val_accuracy: 0.1833\n",
      "Epoch 46/100\n",
      "957/957 [==============================] - 0s 24us/step - loss: 100.6910 - accuracy: 0.1912 - val_loss: nan - val_accuracy: 0.2583\n",
      "Epoch 47/100\n",
      "957/957 [==============================] - 0s 23us/step - loss: 119.4718 - accuracy: 0.1975 - val_loss: nan - val_accuracy: 0.2500\n",
      "Epoch 48/100\n",
      "957/957 [==============================] - 0s 24us/step - loss: 125.3421 - accuracy: 0.1808 - val_loss: nan - val_accuracy: 0.2583\n",
      "Epoch 49/100\n",
      "957/957 [==============================] - 0s 23us/step - loss: 164.9906 - accuracy: 0.1682 - val_loss: nan - val_accuracy: 0.1833\n",
      "Epoch 50/100\n",
      "957/957 [==============================] - 0s 23us/step - loss: 110.4435 - accuracy: 0.1954 - val_loss: nan - val_accuracy: 0.2500\n",
      "Epoch 51/100\n",
      "957/957 [==============================] - 0s 24us/step - loss: 97.8421 - accuracy: 0.1996 - val_loss: nan - val_accuracy: 0.1708\n",
      "Epoch 52/100\n",
      "957/957 [==============================] - 0s 24us/step - loss: 92.0161 - accuracy: 0.1985 - val_loss: nan - val_accuracy: 0.2500\n",
      "Epoch 53/100\n",
      "957/957 [==============================] - 0s 24us/step - loss: 71.8247 - accuracy: 0.1682 - val_loss: nan - val_accuracy: 0.1833\n",
      "Epoch 54/100\n",
      "957/957 [==============================] - 0s 24us/step - loss: 77.0966 - accuracy: 0.1745 - val_loss: nan - val_accuracy: 0.2583\n",
      "Epoch 55/100\n",
      "957/957 [==============================] - 0s 23us/step - loss: 72.4027 - accuracy: 0.1985 - val_loss: nan - val_accuracy: 0.2500\n",
      "Epoch 56/100\n"
     ]
    },
    {
     "name": "stdout",
     "output_type": "stream",
     "text": [
      "957/957 [==============================] - 0s 22us/step - loss: 110.0829 - accuracy: 0.1787 - val_loss: nan - val_accuracy: 0.2583\n",
      "Epoch 57/100\n",
      "957/957 [==============================] - 0s 22us/step - loss: 79.6809 - accuracy: 0.1996 - val_loss: nan - val_accuracy: 0.2583\n",
      "Epoch 58/100\n",
      "957/957 [==============================] - 0s 23us/step - loss: 85.9047 - accuracy: 0.1891 - val_loss: nan - val_accuracy: 0.2500\n",
      "Epoch 59/100\n",
      "957/957 [==============================] - 0s 21us/step - loss: 87.6179 - accuracy: 0.1996 - val_loss: nan - val_accuracy: 0.2333\n",
      "Epoch 60/100\n",
      "957/957 [==============================] - 0s 21us/step - loss: 118.3813 - accuracy: 0.1933 - val_loss: nan - val_accuracy: 0.2583\n",
      "Epoch 61/100\n",
      "957/957 [==============================] - 0s 21us/step - loss: 123.4626 - accuracy: 0.1536 - val_loss: nan - val_accuracy: 0.2375\n",
      "Epoch 62/100\n",
      "957/957 [==============================] - 0s 21us/step - loss: 96.2763 - accuracy: 0.1850 - val_loss: nan - val_accuracy: 0.2583\n",
      "Epoch 63/100\n",
      "957/957 [==============================] - 0s 20us/step - loss: 102.0391 - accuracy: 0.2278 - val_loss: nan - val_accuracy: 0.2500\n",
      "Epoch 64/100\n",
      "957/957 [==============================] - 0s 22us/step - loss: 87.0167 - accuracy: 0.1776 - val_loss: nan - val_accuracy: 0.0208\n",
      "Epoch 65/100\n",
      "957/957 [==============================] - 0s 21us/step - loss: 94.8070 - accuracy: 0.1682 - val_loss: nan - val_accuracy: 0.2500\n",
      "Epoch 66/100\n",
      "957/957 [==============================] - 0s 22us/step - loss: 102.2401 - accuracy: 0.1975 - val_loss: nan - val_accuracy: 0.2583\n",
      "Epoch 67/100\n",
      "957/957 [==============================] - 0s 25us/step - loss: 81.8843 - accuracy: 0.2100 - val_loss: nan - val_accuracy: 0.2500\n",
      "Epoch 68/100\n",
      "957/957 [==============================] - 0s 24us/step - loss: 123.6940 - accuracy: 0.1891 - val_loss: nan - val_accuracy: 0.2500\n",
      "Epoch 69/100\n",
      "957/957 [==============================] - 0s 31us/step - loss: 115.9693 - accuracy: 0.2038 - val_loss: nan - val_accuracy: 0.2500\n",
      "Epoch 70/100\n",
      "957/957 [==============================] - 0s 26us/step - loss: 148.2692 - accuracy: 0.1870 - val_loss: nan - val_accuracy: 0.0375\n",
      "Epoch 71/100\n",
      "957/957 [==============================] - 0s 23us/step - loss: 101.2208 - accuracy: 0.2038 - val_loss: nan - val_accuracy: 0.1708\n",
      "Epoch 72/100\n",
      "957/957 [==============================] - 0s 21us/step - loss: 134.0864 - accuracy: 0.2038 - val_loss: nan - val_accuracy: 0.2583\n",
      "Epoch 73/100\n",
      "957/957 [==============================] - 0s 22us/step - loss: 85.3000 - accuracy: 0.1641 - val_loss: nan - val_accuracy: 0.0375\n",
      "Epoch 74/100\n",
      "957/957 [==============================] - 0s 21us/step - loss: 85.0647 - accuracy: 0.1839 - val_loss: nan - val_accuracy: 0.1708\n",
      "Epoch 75/100\n",
      "957/957 [==============================] - 0s 20us/step - loss: 120.8552 - accuracy: 0.2487 - val_loss: nan - val_accuracy: 0.1833\n",
      "Epoch 76/100\n",
      "957/957 [==============================] - 0s 21us/step - loss: 129.3986 - accuracy: 0.1818 - val_loss: nan - val_accuracy: 0.2583\n",
      "Epoch 77/100\n",
      "957/957 [==============================] - 0s 21us/step - loss: 90.6212 - accuracy: 0.1578 - val_loss: nan - val_accuracy: 0.2500\n",
      "Epoch 78/100\n",
      "957/957 [==============================] - 0s 20us/step - loss: 57.7603 - accuracy: 0.2142 - val_loss: nan - val_accuracy: 0.1833\n",
      "Epoch 79/100\n",
      "957/957 [==============================] - 0s 21us/step - loss: 99.3186 - accuracy: 0.1327 - val_loss: nan - val_accuracy: 0.1708\n",
      "Epoch 80/100\n",
      "957/957 [==============================] - 0s 22us/step - loss: 102.9365 - accuracy: 0.1996 - val_loss: nan - val_accuracy: 0.2583\n",
      "Epoch 81/100\n",
      "957/957 [==============================] - 0s 21us/step - loss: 63.5958 - accuracy: 0.1693 - val_loss: nan - val_accuracy: 0.1833\n",
      "Epoch 82/100\n",
      "957/957 [==============================] - 0s 21us/step - loss: 59.1919 - accuracy: 0.2079 - val_loss: nan - val_accuracy: 0.1708\n",
      "Epoch 83/100\n",
      "957/957 [==============================] - 0s 20us/step - loss: 91.2329 - accuracy: 0.1630 - val_loss: nan - val_accuracy: 0.0375\n",
      "Epoch 84/100\n",
      "957/957 [==============================] - 0s 22us/step - loss: 97.0714 - accuracy: 0.2090 - val_loss: nan - val_accuracy: 0.1833\n",
      "Epoch 85/100\n",
      "957/957 [==============================] - 0s 20us/step - loss: 89.1347 - accuracy: 0.1714 - val_loss: nan - val_accuracy: 0.2375\n",
      "Epoch 86/100\n",
      "957/957 [==============================] - 0s 20us/step - loss: 76.5522 - accuracy: 0.2121 - val_loss: nan - val_accuracy: 0.0333\n",
      "Epoch 87/100\n",
      "957/957 [==============================] - 0s 21us/step - loss: 86.9833 - accuracy: 0.1881 - val_loss: nan - val_accuracy: 0.1708\n",
      "Epoch 88/100\n",
      "957/957 [==============================] - 0s 20us/step - loss: 109.8819 - accuracy: 0.2111 - val_loss: nan - val_accuracy: 0.1708\n",
      "Epoch 89/100\n",
      "957/957 [==============================] - 0s 20us/step - loss: 94.5494 - accuracy: 0.1787 - val_loss: nan - val_accuracy: 0.1833\n",
      "Epoch 90/100\n",
      "957/957 [==============================] - 0s 20us/step - loss: 65.1862 - accuracy: 0.1912 - val_loss: nan - val_accuracy: 0.0375\n",
      "Epoch 91/100\n",
      "957/957 [==============================] - 0s 21us/step - loss: 75.1817 - accuracy: 0.2069 - val_loss: nan - val_accuracy: 0.2500\n",
      "Epoch 92/100\n",
      "957/957 [==============================] - 0s 21us/step - loss: 81.7893 - accuracy: 0.1233 - val_loss: nan - val_accuracy: 0.2583\n",
      "Epoch 93/100\n",
      "957/957 [==============================] - 0s 21us/step - loss: 123.8237 - accuracy: 0.2372 - val_loss: nan - val_accuracy: 0.0333\n",
      "Epoch 94/100\n",
      "957/957 [==============================] - 0s 21us/step - loss: 95.6044 - accuracy: 0.1808 - val_loss: nan - val_accuracy: 0.0375\n",
      "Epoch 95/100\n",
      "957/957 [==============================] - 0s 22us/step - loss: 75.8041 - accuracy: 0.1881 - val_loss: nan - val_accuracy: 0.2500\n",
      "Epoch 96/100\n",
      "957/957 [==============================] - 0s 21us/step - loss: 59.9111 - accuracy: 0.2017 - val_loss: nan - val_accuracy: 0.2500\n",
      "Epoch 97/100\n",
      "957/957 [==============================] - 0s 20us/step - loss: 62.0458 - accuracy: 0.1996 - val_loss: nan - val_accuracy: 0.1833\n",
      "Epoch 98/100\n",
      "957/957 [==============================] - 0s 22us/step - loss: 97.4449 - accuracy: 0.2100 - val_loss: nan - val_accuracy: 0.0375\n",
      "Epoch 99/100\n",
      "957/957 [==============================] - 0s 21us/step - loss: 74.4702 - accuracy: 0.1620 - val_loss: nan - val_accuracy: 0.1833\n",
      "Epoch 100/100\n",
      "957/957 [==============================] - 0s 22us/step - loss: 97.1976 - accuracy: 0.2153 - val_loss: nan - val_accuracy: 0.1833\n"
     ]
    }
   ],
   "source": [
    "# Fit model\n",
    "\n",
    "history = model.fit(x_train, y_train, batch_size=128, epochs=100, verbose=1, validation_split=0.2)"
   ]
  },
  {
   "cell_type": "markdown",
   "metadata": {},
   "source": [
    "# Step 4 - Visualize the model progression, change hyperparameters as necessary"
   ]
  },
  {
   "cell_type": "code",
   "execution_count": 11,
   "metadata": {},
   "outputs": [
    {
     "data": {
      "image/png": "[encoded data removed]",
      "text/plain": [
       "<Figure size 432x288 with 1 Axes>"
      ]
     },
     "metadata": {
      "needs_background": "light"
     },
     "output_type": "display_data"
    }
   ],
   "source": [
    "plt.plot(history.history['accuracy'])\n",
    "plt.plot(history.history['val_accuracy'])\n",
    "plt.title('model accuracy')\n",
    "plt.xlabel('epoch')\n",
    "plt.ylabel('accuracy')\n",
    "plt.legend(['train','test'])\n",
    "plt.show()"
   ]
  },
  {
   "cell_type": "markdown",
   "metadata": {},
   "source": [
    "# Conclusions"
   ]
  },
  {
   "cell_type": "markdown",
   "metadata": {},
   "source": [
    "After adjusting the hyperparameters several times, the best accuracy I could get on the validation data is 25%. This is, of course, unacceptably low accuracy. This model exhibits extremely *high bias*. High bias models can be improved through the following tactics:\n",
    "\n",
    "* Introducing new / different features\n",
    "* Adding polynomial features / feature crosses (in simpler models such as Logistic Regression or Linear Regression)\n",
    "* Adding layers / nodes (in a Neural Network)\n",
    "* Decreasing regularization\n",
    "\n",
    "Since I am using a Neural Network rather than a simpler model, adding polynomial features and feature crosses is unlikely to help. I am not currently using any regularization in my model, so I cannot decrease regularization. I did try adding layers and nodes to my Neural Net, but I get the highest accuracy with my current model (still very low accuracy).\n",
    "\n",
    "It appears that the best 'next step' for my model would be to try and find better features. Andrew Ng, professor of Machine Learning at Stanford, says that a machine learning model will only work if the features adequently inform the label. If an expert in the field could not predict the label given the features, a machine learning model cannot predict the lable either. My features do not adequently inform the label. \n",
    "\n",
    "I believe that my initial hypothesis was overly ambitious. I hoped to predict the ratings that one particular person, who has a very wide range of musical tastes, would give to different albums. The features I used were what was available to me from Spotify's API. Perhaps one could collect a set of features that play a stronger role in Fantano's rating process, or perhaps his rating process rests on less mathematical decision making. "
   ]
  }
 ],
 "metadata": {
  "kernelspec": {
   "display_name": "Python 3",
   "language": "python",
   "name": "python3"
  },
  "language_info": {
   "codemirror_mode": {
    "name": "ipython",
    "version": 3
   },
   "file_extension": ".py",
   "mimetype": "text/x-python",
   "name": "python",
   "nbconvert_exporter": "python",
   "pygments_lexer": "ipython3",
   "version": "3.7.4"
  }
 },
 "nbformat": 4,
 "nbformat_minor": 4
}
